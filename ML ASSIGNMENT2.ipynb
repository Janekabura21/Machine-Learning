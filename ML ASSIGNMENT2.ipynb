{
 "cells": [
  {
   "cell_type": "markdown",
   "id": "4c8a7124-b87a-41dd-9253-56e8dbebfe75",
   "metadata": {},
   "source": [
    "MACHINE LEARNING ASSIGNMENT 2"
   ]
  },
  {
   "cell_type": "code",
   "execution_count": 25,
   "id": "63f1a458-6ec9-4cdb-a05b-bd275bb3dcb9",
   "metadata": {},
   "outputs": [],
   "source": [
    "import pandas as pd\n",
    "import numpy as np\n",
    "from sklearn.preprocessing import StandardScaler"
   ]
  },
  {
   "cell_type": "code",
   "execution_count": 15,
   "id": "7a71a21e-f500-45aa-b202-dedfba70faee",
   "metadata": {},
   "outputs": [
    {
     "data": {
      "text/html": [
       "<div>\n",
       "<style scoped>\n",
       "    .dataframe tbody tr th:only-of-type {\n",
       "        vertical-align: middle;\n",
       "    }\n",
       "\n",
       "    .dataframe tbody tr th {\n",
       "        vertical-align: top;\n",
       "    }\n",
       "\n",
       "    .dataframe thead th {\n",
       "        text-align: right;\n",
       "    }\n",
       "</style>\n",
       "<table border=\"1\" class=\"dataframe\">\n",
       "  <thead>\n",
       "    <tr style=\"text-align: right;\">\n",
       "      <th></th>\n",
       "      <th>Pregnancies</th>\n",
       "      <th>Glucose</th>\n",
       "      <th>BloodPressure</th>\n",
       "      <th>SkinThickness</th>\n",
       "      <th>Insulin</th>\n",
       "      <th>BMI</th>\n",
       "      <th>DiabetesPedigreeFunction</th>\n",
       "      <th>Age</th>\n",
       "      <th>Outcome</th>\n",
       "    </tr>\n",
       "  </thead>\n",
       "  <tbody>\n",
       "    <tr>\n",
       "      <th>0</th>\n",
       "      <td>6</td>\n",
       "      <td>148</td>\n",
       "      <td>72</td>\n",
       "      <td>35</td>\n",
       "      <td>0</td>\n",
       "      <td>33.6</td>\n",
       "      <td>0.627</td>\n",
       "      <td>50</td>\n",
       "      <td>1</td>\n",
       "    </tr>\n",
       "    <tr>\n",
       "      <th>1</th>\n",
       "      <td>1</td>\n",
       "      <td>85</td>\n",
       "      <td>66</td>\n",
       "      <td>29</td>\n",
       "      <td>0</td>\n",
       "      <td>26.6</td>\n",
       "      <td>0.351</td>\n",
       "      <td>31</td>\n",
       "      <td>0</td>\n",
       "    </tr>\n",
       "    <tr>\n",
       "      <th>2</th>\n",
       "      <td>8</td>\n",
       "      <td>183</td>\n",
       "      <td>64</td>\n",
       "      <td>0</td>\n",
       "      <td>0</td>\n",
       "      <td>23.3</td>\n",
       "      <td>0.672</td>\n",
       "      <td>32</td>\n",
       "      <td>1</td>\n",
       "    </tr>\n",
       "    <tr>\n",
       "      <th>3</th>\n",
       "      <td>1</td>\n",
       "      <td>89</td>\n",
       "      <td>66</td>\n",
       "      <td>23</td>\n",
       "      <td>94</td>\n",
       "      <td>28.1</td>\n",
       "      <td>0.167</td>\n",
       "      <td>21</td>\n",
       "      <td>0</td>\n",
       "    </tr>\n",
       "    <tr>\n",
       "      <th>4</th>\n",
       "      <td>0</td>\n",
       "      <td>137</td>\n",
       "      <td>40</td>\n",
       "      <td>35</td>\n",
       "      <td>168</td>\n",
       "      <td>43.1</td>\n",
       "      <td>2.288</td>\n",
       "      <td>33</td>\n",
       "      <td>1</td>\n",
       "    </tr>\n",
       "  </tbody>\n",
       "</table>\n",
       "</div>"
      ],
      "text/plain": [
       "   Pregnancies  Glucose  BloodPressure  SkinThickness  Insulin   BMI  \\\n",
       "0            6      148             72             35        0  33.6   \n",
       "1            1       85             66             29        0  26.6   \n",
       "2            8      183             64              0        0  23.3   \n",
       "3            1       89             66             23       94  28.1   \n",
       "4            0      137             40             35      168  43.1   \n",
       "\n",
       "   DiabetesPedigreeFunction  Age  Outcome  \n",
       "0                     0.627   50        1  \n",
       "1                     0.351   31        0  \n",
       "2                     0.672   32        1  \n",
       "3                     0.167   21        0  \n",
       "4                     2.288   33        1  "
      ]
     },
     "execution_count": 15,
     "metadata": {},
     "output_type": "execute_result"
    }
   ],
   "source": [
    "data = pd.read_csv('Desktop\\\\diabetes.csv')\n",
    "data.head()"
   ]
  },
  {
   "cell_type": "code",
   "execution_count": 16,
   "id": "4ef2d774-aa54-4be4-9b17-9e8497d4bc2d",
   "metadata": {},
   "outputs": [
    {
     "name": "stdout",
     "output_type": "stream",
     "text": [
      "<class 'pandas.core.frame.DataFrame'>\n",
      "RangeIndex: 768 entries, 0 to 767\n",
      "Data columns (total 9 columns):\n",
      " #   Column                    Non-Null Count  Dtype  \n",
      "---  ------                    --------------  -----  \n",
      " 0   Pregnancies               768 non-null    int64  \n",
      " 1   Glucose                   768 non-null    int64  \n",
      " 2   BloodPressure             768 non-null    int64  \n",
      " 3   SkinThickness             768 non-null    int64  \n",
      " 4   Insulin                   768 non-null    int64  \n",
      " 5   BMI                       768 non-null    float64\n",
      " 6   DiabetesPedigreeFunction  768 non-null    float64\n",
      " 7   Age                       768 non-null    int64  \n",
      " 8   Outcome                   768 non-null    int64  \n",
      "dtypes: float64(2), int64(7)\n",
      "memory usage: 54.1 KB\n"
     ]
    }
   ],
   "source": [
    "data.info()"
   ]
  },
  {
   "cell_type": "code",
   "execution_count": 17,
   "id": "bcb757af-0a07-41da-9f14-5e8dfc51d968",
   "metadata": {},
   "outputs": [
    {
     "name": "stdout",
     "output_type": "stream",
     "text": [
      "Pregnancies                 111\n",
      "Glucose                       5\n",
      "BloodPressure                35\n",
      "SkinThickness               227\n",
      "Insulin                     374\n",
      "BMI                          11\n",
      "DiabetesPedigreeFunction      0\n",
      "Age                           0\n",
      "Outcome                     500\n",
      "dtype: int64\n"
     ]
    }
   ],
   "source": [
    "print((data == 0).sum())"
   ]
  },
  {
   "cell_type": "code",
   "execution_count": 18,
   "id": "73b43086-f5af-4de0-8c3b-0b39db91de8f",
   "metadata": {},
   "outputs": [
    {
     "name": "stdout",
     "output_type": "stream",
     "text": [
      "Pregnancies                   0\n",
      "Glucose                       5\n",
      "BloodPressure                35\n",
      "SkinThickness               227\n",
      "Insulin                     374\n",
      "BMI                          11\n",
      "DiabetesPedigreeFunction      0\n",
      "Age                           0\n",
      "Outcome                       0\n",
      "dtype: int64\n"
     ]
    }
   ],
   "source": [
    "cols_to_replace = [ 'Glucose', 'BloodPressure', 'SkinThickness', 'Insulin', 'BMI' ]\n",
    "data[cols_to_replace] = data[cols_to_replace].replace({0: np.nan})\n",
    "print(data.isnull().sum())"
   ]
  },
  {
   "cell_type": "code",
   "execution_count": 19,
   "id": "f8fd0403-968c-4137-9537-c22d96775005",
   "metadata": {
    "scrolled": true
   },
   "outputs": [
    {
     "name": "stdout",
     "output_type": "stream",
     "text": [
      "Pregnancies                 0\n",
      "Glucose                     0\n",
      "BloodPressure               0\n",
      "SkinThickness               0\n",
      "Insulin                     0\n",
      "BMI                         0\n",
      "DiabetesPedigreeFunction    0\n",
      "Age                         0\n",
      "Outcome                     0\n",
      "dtype: int64\n"
     ]
    }
   ],
   "source": [
    "data.fillna(data.mean(), inplace=True)\n",
    "print(data.isnull().sum())"
   ]
  },
  {
   "cell_type": "code",
   "execution_count": 26,
   "id": "cdeaacf2-3270-4038-98ee-0e9467276e2c",
   "metadata": {},
   "outputs": [
    {
     "name": "stdout",
     "output_type": "stream",
     "text": [
      "        Pregnancies       Glucose  BloodPressure  SkinThickness       Insulin  \\\n",
      "count  7.680000e+02  7.680000e+02   7.680000e+02   7.680000e+02  7.680000e+02   \n",
      "mean  -6.476301e-17 -3.561966e-16   6.915764e-16   7.956598e-16 -3.330669e-16   \n",
      "std    1.000652e+00  1.000652e+00   1.000652e+00   1.000652e+00  1.000652e+00   \n",
      "min   -1.141852e+00 -2.554131e+00  -4.004245e+00  -2.521670e+00 -1.665945e+00   \n",
      "25%   -8.448851e-01 -7.212214e-01  -6.953060e-01  -4.727737e-01 -4.007289e-01   \n",
      "50%   -2.509521e-01 -1.540881e-01  -1.675912e-02   8.087936e-16 -3.345079e-16   \n",
      "75%    6.399473e-01  6.103090e-01   6.282695e-01   3.240194e-01 -3.345079e-16   \n",
      "max    3.906578e+00  2.541850e+00   4.102655e+00   7.950467e+00  8.126238e+00   \n",
      "\n",
      "                BMI  DiabetesPedigreeFunction           Age     Outcome  \n",
      "count  7.680000e+02              7.680000e+02  7.680000e+02  768.000000  \n",
      "mean   3.515706e-16              2.451743e-16  1.931325e-16    0.348958  \n",
      "std    1.000652e+00              1.000652e+00  1.000652e+00    0.476951  \n",
      "min   -2.075119e+00             -1.189553e+00 -1.041549e+00    0.000000  \n",
      "25%   -7.215397e-01             -6.889685e-01 -7.862862e-01    0.000000  \n",
      "50%   -8.363615e-03             -3.001282e-01 -3.608474e-01    0.000000  \n",
      "75%    6.029301e-01              4.662269e-01  6.602056e-01    1.000000  \n",
      "max    5.042087e+00              5.883565e+00  4.063716e+00    1.000000  \n"
     ]
    }
   ],
   "source": [
    "scaler = StandardScaler()\n",
    "scaled_features = scaler.fit_transform(data.drop('Outcome', axis=1))\n",
    "\n",
    "data_scaled = pd.DataFrame(scaled_features, columns=data.columns[:-1])\n",
    "data_scaled['Outcome'] = data['Outcome']\n",
    "\n",
    "print(data_scaled.describe())"
   ]
  },
  {
   "cell_type": "code",
   "execution_count": 27,
   "id": "9e51c535-68ee-44b8-a898-f412fa2e9d08",
   "metadata": {},
   "outputs": [
    {
     "data": {
      "text/html": [
       "<div>\n",
       "<style scoped>\n",
       "    .dataframe tbody tr th:only-of-type {\n",
       "        vertical-align: middle;\n",
       "    }\n",
       "\n",
       "    .dataframe tbody tr th {\n",
       "        vertical-align: top;\n",
       "    }\n",
       "\n",
       "    .dataframe thead th {\n",
       "        text-align: right;\n",
       "    }\n",
       "</style>\n",
       "<table border=\"1\" class=\"dataframe\">\n",
       "  <thead>\n",
       "    <tr style=\"text-align: right;\">\n",
       "      <th></th>\n",
       "      <th>Pregnancies</th>\n",
       "      <th>Glucose</th>\n",
       "      <th>BloodPressure</th>\n",
       "      <th>SkinThickness</th>\n",
       "      <th>Insulin</th>\n",
       "      <th>BMI</th>\n",
       "      <th>DiabetesPedigreeFunction</th>\n",
       "      <th>Age</th>\n",
       "      <th>Outcome</th>\n",
       "    </tr>\n",
       "  </thead>\n",
       "  <tbody>\n",
       "    <tr>\n",
       "      <th>0</th>\n",
       "      <td>6</td>\n",
       "      <td>148.0</td>\n",
       "      <td>72.0</td>\n",
       "      <td>35.00000</td>\n",
       "      <td>155.548223</td>\n",
       "      <td>33.6</td>\n",
       "      <td>0.627</td>\n",
       "      <td>50</td>\n",
       "      <td>1</td>\n",
       "    </tr>\n",
       "    <tr>\n",
       "      <th>1</th>\n",
       "      <td>1</td>\n",
       "      <td>85.0</td>\n",
       "      <td>66.0</td>\n",
       "      <td>29.00000</td>\n",
       "      <td>155.548223</td>\n",
       "      <td>26.6</td>\n",
       "      <td>0.351</td>\n",
       "      <td>31</td>\n",
       "      <td>0</td>\n",
       "    </tr>\n",
       "    <tr>\n",
       "      <th>2</th>\n",
       "      <td>8</td>\n",
       "      <td>183.0</td>\n",
       "      <td>64.0</td>\n",
       "      <td>29.15342</td>\n",
       "      <td>155.548223</td>\n",
       "      <td>23.3</td>\n",
       "      <td>0.672</td>\n",
       "      <td>32</td>\n",
       "      <td>1</td>\n",
       "    </tr>\n",
       "    <tr>\n",
       "      <th>3</th>\n",
       "      <td>1</td>\n",
       "      <td>89.0</td>\n",
       "      <td>66.0</td>\n",
       "      <td>23.00000</td>\n",
       "      <td>94.000000</td>\n",
       "      <td>28.1</td>\n",
       "      <td>0.167</td>\n",
       "      <td>21</td>\n",
       "      <td>0</td>\n",
       "    </tr>\n",
       "    <tr>\n",
       "      <th>4</th>\n",
       "      <td>0</td>\n",
       "      <td>137.0</td>\n",
       "      <td>40.0</td>\n",
       "      <td>35.00000</td>\n",
       "      <td>168.000000</td>\n",
       "      <td>43.1</td>\n",
       "      <td>2.288</td>\n",
       "      <td>33</td>\n",
       "      <td>1</td>\n",
       "    </tr>\n",
       "  </tbody>\n",
       "</table>\n",
       "</div>"
      ],
      "text/plain": [
       "   Pregnancies  Glucose  BloodPressure  SkinThickness     Insulin   BMI  \\\n",
       "0            6    148.0           72.0       35.00000  155.548223  33.6   \n",
       "1            1     85.0           66.0       29.00000  155.548223  26.6   \n",
       "2            8    183.0           64.0       29.15342  155.548223  23.3   \n",
       "3            1     89.0           66.0       23.00000   94.000000  28.1   \n",
       "4            0    137.0           40.0       35.00000  168.000000  43.1   \n",
       "\n",
       "   DiabetesPedigreeFunction  Age  Outcome  \n",
       "0                     0.627   50        1  \n",
       "1                     0.351   31        0  \n",
       "2                     0.672   32        1  \n",
       "3                     0.167   21        0  \n",
       "4                     2.288   33        1  "
      ]
     },
     "execution_count": 27,
     "metadata": {},
     "output_type": "execute_result"
    }
   ],
   "source": [
    "data.head()"
   ]
  },
  {
   "cell_type": "markdown",
   "id": "974f495b-7a39-41cc-a885-3d312bf46f5b",
   "metadata": {},
   "source": [
    "                               K-FOLD CROSS-VALIDATION"
   ]
  },
  {
   "cell_type": "code",
   "execution_count": 21,
   "id": "27632313-3c51-4ab1-8975-8a9863261e73",
   "metadata": {},
   "outputs": [],
   "source": [
    "from sklearn.model_selection import cross_val_score, KFold\n",
    "from sklearn.neighbors import KNeighborsClassifier\n",
    "from sklearn.tree import DecisionTreeClassifier"
   ]
  },
  {
   "cell_type": "code",
   "execution_count": 22,
   "id": "9589cca6-fc54-4299-b8c7-73ab76d7413d",
   "metadata": {},
   "outputs": [],
   "source": [
    "knn = KNeighborsClassifier()\n",
    "dt = DecisionTreeClassifier()\n",
    "kf = KFold(n_splits=5, shuffle=True, random_state=42)"
   ]
  },
  {
   "cell_type": "code",
   "execution_count": 23,
   "id": "23adddff-ede9-4520-9d2c-e3ddf5cc3019",
   "metadata": {},
   "outputs": [
    {
     "name": "stdout",
     "output_type": "stream",
     "text": [
      "KNN Scores: [0.74025974 0.72077922 0.74675325 0.73856209 0.75816993]\n",
      "KNN Average Score: 0.7409048467871997\n"
     ]
    }
   ],
   "source": [
    "knn_scores = cross_val_score(knn, data_scaled.drop('Outcome', axis=1), data_scaled['Outcome'], cv=kf)\n",
    "print(\"KNN Scores:\", knn_scores)\n",
    "print(\"KNN Average Score:\", knn_scores.mean())"
   ]
  },
  {
   "cell_type": "code",
   "execution_count": 24,
   "id": "b1eb067d-1408-4fa1-b031-0318f886cd9c",
   "metadata": {},
   "outputs": [
    {
     "name": "stdout",
     "output_type": "stream",
     "text": [
      "Decision Tree Scores: [0.71428571 0.73376623 0.7012987  0.74509804 0.73856209]\n",
      "Decision Tree Average Score: 0.7266021560139208\n"
     ]
    }
   ],
   "source": [
    "dt_scores = cross_val_score(dt, data_scaled.drop('Outcome', axis=1), data_scaled['Outcome'], cv=kf)\n",
    "print(\"Decision Tree Scores:\", dt_scores)\n",
    "print(\"Decision Tree Average Score:\", dt_scores.mean())"
   ]
  },
  {
   "cell_type": "markdown",
   "id": "c73ae0a9-dc80-47be-9870-9215dd79e784",
   "metadata": {},
   "source": [
    "                                   OBSERVATIONS AND CONCLUSIONS"
   ]
  },
  {
   "cell_type": "code",
   "execution_count": null,
   "id": "83483e58-9f7e-40cf-9354-1228c250086b",
   "metadata": {},
   "outputs": [],
   "source": [
    "# 1. KNN\n",
    "\n",
    "# Performance is influenced by scaling.\n",
    "# Sensitive to the choice of k (number of neighbors).\n",
    "# Works well if features are standardized.\n",
    "                              \n",
    "# 2. Decision Tree\n",
    "\n",
    "# Not sensitive to scaling.\n",
    "# Prone to overfitting if not pruned or if the dataset is small.\n",
    "# May work better with categorical or unscaled data.\n",
    "    \n",
    "# 3. Comparison\n",
    "\n",
    "# If KNN outperforms Decision Tree, it could indicate that the relationships between features and the target variable are more continuous.\n",
    "# If Decision Tree performs better, it might indicate a need for non-linear decision boundaries.\n"
   ]
  }
 ],
 "metadata": {
  "kernelspec": {
   "display_name": "Python 3 (ipykernel)",
   "language": "python",
   "name": "python3"
  },
  "language_info": {
   "codemirror_mode": {
    "name": "ipython",
    "version": 3
   },
   "file_extension": ".py",
   "mimetype": "text/x-python",
   "name": "python",
   "nbconvert_exporter": "python",
   "pygments_lexer": "ipython3",
   "version": "3.12.4"
  }
 },
 "nbformat": 4,
 "nbformat_minor": 5
}
